{
 "cells": [
  {
   "cell_type": "code",
   "execution_count": 163,
   "id": "98523283",
   "metadata": {},
   "outputs": [
    {
     "name": "stdout",
     "output_type": "stream",
     "text": [
      "Setup complete.\n"
     ]
    }
   ],
   "source": [
    "run mysetup.py"
   ]
  },
  {
   "cell_type": "code",
   "execution_count": 164,
   "id": "bb09e33d",
   "metadata": {},
   "outputs": [],
   "source": [
    "timestamp   = datetime.datetime.now(ZoneInfo(\"America/New_York\")).strftime(\"%Y%m%d_%H%M%S\")\n",
    "base_dir    = pathlib.Path.cwd() / \"input\" / timestamp\n",
    "base_dir.mkdir(parents=True, exist_ok=True)\n"
   ]
  },
  {
   "cell_type": "code",
   "execution_count": 170,
   "id": "a99a82c0",
   "metadata": {},
   "outputs": [
    {
     "name": "stderr",
     "output_type": "stream",
     "text": [
      "/var/folders/v4/ygpx35493v50lqrtm282cqnm0000gn/T/ipykernel_31942/3333987526.py:87: FutureWarning: Logical ops (and, or, xor) between Pandas objects and dtype-less sequences (e.g. list, tuple) are deprecated and will raise in a future version. Wrap the object in a Series, Index, or np.array before operating instead.\n",
      "  (df_tb['TYPE_BUILD'] == 'DORM')                       # only a subset allowed in a DORM\n"
     ]
    }
   ],
   "source": [
    "# ------------------------------------------------------------------\n",
    "# 1 ▸ generate a toy instance (10 PICs, 4 houses, 3 sets, 5 groups) --\n",
    "# ------------------------------------------------------------------\n",
    "\n",
    "N_PIC = 1000 # number of PICs\n",
    "N_HOUSE = 90   # number of houses\n",
    "N_SETS = 4   # number of sets\n",
    "\n",
    "random.seed(42);  np.random.seed(42)\n",
    "\n",
    "\n",
    "PIC   = [f'P{i+1}' for i in range(N_PIC)]\n",
    "HOUSE = [f'H{h+1}' for h in range(N_HOUSE)]\n",
    "SETS  = [f'SET{s+1}' for s in range(N_SETS)]\n",
    "MO    = ['MO', 'NO_MO'] # criterion 1: mental observation MO/NO_MO\n",
    "VIOLENCE    = ['MIN', 'MED', 'MAX'] # criterion 2: violence levels MIN/MED/MAX\n",
    "\n",
    "\n",
    "# (a) PIC profile  --------------------------------------------------\n",
    "violence = np.random.choice(VIOLENCE, size=N_PIC)\n",
    "is_mo    = np.random.choice(MO, size=N_PIC)\n",
    "violence_df = pd.get_dummies(pd.Series(violence)).reindex(columns=VIOLENCE, fill_value=False).astype(int)\n",
    "mo_df = pd.get_dummies(pd.Series(is_mo)).reindex(columns=MO, fill_value=False).astype(int)\n",
    "pic_df = pd.DataFrame({'PIC_ID': PIC})\n",
    "\n",
    "df_pic = pd.concat([pic_df, mo_df, violence_df], axis=1)\n",
    "\n",
    "# (b) House profile  ------------------------------------------------\n",
    "df_init = pd.DataFrame({\n",
    "    'PIC_ID'        : PIC,\n",
    "    'HOUSE_ID_INIT' : np.random.choice(HOUSE, size=len(PIC))\n",
    "})\n",
    "\n",
    "\n",
    "# (c) Set profile  --------------------------------------------------\n",
    "membership = np.zeros((len(PIC), len(SETS)), dtype=int)\n",
    "for i in range(len(PIC)):\n",
    "    if random.random() < .05: # 20% chance to be in a set\n",
    "        membership[i, random.randrange(len(SETS))] = 1\n",
    "df_S = pd.DataFrame(membership, columns=SETS).assign(PIC_ID=PIC)\n",
    "\n",
    "\n",
    "# (d) random separation-order & SRG conflicts -----------------------\n",
    "df_so = pd.DataFrame(random.sample(\n",
    "            list(itertools.combinations(PIC, 2)), 30),\n",
    "            columns=['PIC_ID1','PIC_ID2'])\n",
    "\n",
    "df_sc = pd.DataFrame(random.sample(\n",
    "            list(itertools.combinations(SETS, 2)), 3),\n",
    "            columns=['SET1','SET2'])\n",
    "\n",
    "# (e) physical housing & type menus ---------------------------------\n",
    "df_ph = pd.DataFrame({\n",
    "    'HOUSE_ID'   : HOUSE,\n",
    "    'TYPE_BUILD' : np.random.choice(['DORM','CELL'], size=len(HOUSE)),\n",
    "    'CAP'        : np.random.randint(20,50, size=len(HOUSE))\n",
    "})\n",
    "\n",
    "\n",
    "\n",
    "\n",
    "\n",
    "# (f) housing type ---------------------------------\n",
    "\n",
    "\n",
    "w = {                     # group-permission matrix w_{tℓ}\n",
    "    'MO_MIN'   : dict(MO=1, NO_MO=0, MIN=1, MED=0, MAX=0),\n",
    "    'MO_MED'   : dict(MO=1, NO_MO=0, MIN=0, MED=1, MAX=0),\n",
    "    'MO_MIN_MED'   : dict(MO=1, NO_MO=0, MIN=1, MED=1, MAX=0),\n",
    "    'NO_MO_MIN': dict(MO=0, NO_MO=1, MIN=1, MED=0, MAX=0),\n",
    "    'NO_MO_MED': dict(MO=0, NO_MO=1, MIN=0, MED=1, MAX=0),\n",
    "    'NO_MO_MAX': dict(MO=0, NO_MO=1, MIN=0, MED=0, MAX=1),\n",
    "    'MO_MAX': dict(MO=1, NO_MO=0, MIN=0, MED=0, MAX=1),\n",
    "}\n",
    "\n",
    "TYPES = list(w.keys())\n",
    "df_tb = df_ph[['HOUSE_ID', 'TYPE_BUILD']].merge(\n",
    "            pd.DataFrame({'TYPE_ID': TYPES}),\n",
    "            how='cross'\n",
    ")\n",
    "\n",
    "# 2) keep only legal (HOUSE_ID, TYPE_ID) pairs\n",
    "mask = (\n",
    "    (df_tb['TYPE_BUILD'] == 'CELL')                           # every TYPE allowed in a CELL\n",
    "    |                                                         #     ─────────────\n",
    "    (\n",
    "        (df_tb['TYPE_BUILD'] == 'DORM')                       # only a subset allowed in a DORM\n",
    "        & ([\"MAX\" not in item for item in df_tb['TYPE_ID']])\n",
    "    )\n",
    ")\n",
    "df_tb = df_tb.loc[mask, ['HOUSE_ID', 'TYPE_ID']].reset_index(drop=True)\n",
    "\n",
    "\n",
    "\n",
    "df_tbl = (pd.DataFrame(w).T\n",
    "          .reset_index(names='TYPE_ID'))\n",
    "\n",
    "\n",
    "excel_dir = base_dir / \"input.xlsx\"\n",
    "with pd.ExcelWriter(excel_dir, engine='xlsxwriter') as writer:\n",
    "    df_pic .to_excel(writer, sheet_name='df_pic',  index=False)\n",
    "    df_init.to_excel(writer, sheet_name='df_init', index=False)\n",
    "    df_S   .to_excel(writer, sheet_name='df_S',    index=False)\n",
    "    df_so  .to_excel(writer, sheet_name='df_so',   index=False)\n",
    "    df_sc  .to_excel(writer, sheet_name='df_sc',   index=False)\n",
    "    df_ph  .to_excel(writer, sheet_name='df_ph',   index=False)\n",
    "    df_tb  .to_excel(writer, sheet_name='df_tb',   index=False)\n",
    "    df_tbl .to_excel(writer, sheet_name='df_tbl',  index=False)\n"
   ]
  },
  {
   "cell_type": "code",
   "execution_count": null,
   "id": "188fa493",
   "metadata": {},
   "outputs": [],
   "source": []
  }
 ],
 "metadata": {
  "kernelspec": {
   "display_name": "base",
   "language": "python",
   "name": "python3"
  },
  "language_info": {
   "codemirror_mode": {
    "name": "ipython",
    "version": 3
   },
   "file_extension": ".py",
   "mimetype": "text/x-python",
   "name": "python",
   "nbconvert_exporter": "python",
   "pygments_lexer": "ipython3",
   "version": "3.9.6"
  }
 },
 "nbformat": 4,
 "nbformat_minor": 5
}
