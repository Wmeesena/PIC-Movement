{
 "cells": [
  {
   "cell_type": "code",
   "execution_count": 12,
   "id": "d196440c",
   "metadata": {},
   "outputs": [
    {
     "name": "stdout",
     "output_type": "stream",
     "text": [
      "Setup complete.\n"
     ]
    }
   ],
   "source": [
    "run mysetup.py"
   ]
  },
  {
   "cell_type": "markdown",
   "id": "d4a81116",
   "metadata": {},
   "source": []
  },
  {
   "cell_type": "markdown",
   "id": "25bf5996",
   "metadata": {},
   "source": [
    "# Movement"
   ]
  },
  {
   "cell_type": "code",
   "execution_count": null,
   "id": "da90401e",
   "metadata": {},
   "outputs": [],
   "source": []
  },
  {
   "cell_type": "markdown",
   "id": "707f6045",
   "metadata": {},
   "source": [
    "## Data Generation"
   ]
  },
  {
   "cell_type": "code",
   "execution_count": null,
   "id": "cc5591de",
   "metadata": {},
   "outputs": [],
   "source": []
  },
  {
   "cell_type": "markdown",
   "id": "e5bf30b8",
   "metadata": {},
   "source": [
    "## Solving Optimization "
   ]
  },
  {
   "cell_type": "code",
   "execution_count": 14,
   "id": "e71c0e91",
   "metadata": {},
   "outputs": [],
   "source": [
    "timestamp   = datetime.datetime.now().strftime(\"%Y%m%d_%H%M%S\")\n",
    "base_dir    = pathlib.Path.cwd() / \"output\" / timestamp\n",
    "plots_root  = base_dir / \"result\"\n",
    "base_dir.mkdir(parents=True, exist_ok=True)\n",
    "plots_root.mkdir(parents=True, exist_ok=True)\n"
   ]
  },
  {
   "cell_type": "code",
   "execution_count": 15,
   "id": "bc41ded8",
   "metadata": {},
   "outputs": [
    {
     "ename": "ModuleNotFoundError",
     "evalue": "No module named 'pulp'",
     "output_type": "error",
     "traceback": [
      "\u001b[1;31m---------------------------------------------------------------------------\u001b[0m",
      "\u001b[1;31mModuleNotFoundError\u001b[0m                       Traceback (most recent call last)",
      "Input \u001b[1;32mIn [15]\u001b[0m, in \u001b[0;36m<cell line: 7>\u001b[1;34m()\u001b[0m\n\u001b[0;32m      5\u001b[0m \u001b[38;5;28;01mimport\u001b[39;00m \u001b[38;5;21;01mitertools\u001b[39;00m\u001b[38;5;241m,\u001b[39m \u001b[38;5;21;01mrandom\u001b[39;00m\u001b[38;5;241m,\u001b[39m \u001b[38;5;21;01mnumpy\u001b[39;00m \u001b[38;5;28;01mas\u001b[39;00m \u001b[38;5;21;01mnp\u001b[39;00m\u001b[38;5;241m,\u001b[39m \u001b[38;5;21;01mpandas\u001b[39;00m \u001b[38;5;28;01mas\u001b[39;00m \u001b[38;5;21;01mpd\u001b[39;00m\n\u001b[0;32m      6\u001b[0m \u001b[38;5;28;01mfrom\u001b[39;00m \u001b[38;5;21;01mpathlib\u001b[39;00m \u001b[38;5;28;01mimport\u001b[39;00m Path\n\u001b[1;32m----> 7\u001b[0m \u001b[38;5;28;01mfrom\u001b[39;00m \u001b[38;5;21;01mpulp\u001b[39;00m \u001b[38;5;28;01mimport\u001b[39;00m (LpProblem, LpMinimize, LpBinary, LpVariable,\n\u001b[0;32m      8\u001b[0m                   lpSum, PULP_CBC_CMD)\n\u001b[0;32m     10\u001b[0m \u001b[38;5;66;03m# ------------------------------------------------------------------\u001b[39;00m\n\u001b[0;32m     11\u001b[0m \u001b[38;5;66;03m# 1 ▸ generate a toy instance (10 PICs, 4 houses, 3 sets, 5 groups) --\u001b[39;00m\n\u001b[0;32m     12\u001b[0m \u001b[38;5;66;03m# ------------------------------------------------------------------\u001b[39;00m\n\u001b[0;32m     13\u001b[0m random\u001b[38;5;241m.\u001b[39mseed(\u001b[38;5;241m42\u001b[39m);  np\u001b[38;5;241m.\u001b[39mrandom\u001b[38;5;241m.\u001b[39mseed(\u001b[38;5;241m42\u001b[39m)\n",
      "\u001b[1;31mModuleNotFoundError\u001b[0m: No module named 'pulp'"
     ]
    }
   ],
   "source": [
    "\"\"\"\n",
    "small_demo.py  –  demo of the housing-movement optimisation\n",
    "author: ChatGPT (OpenAI)   date: 2025-05-28\n",
    "\"\"\"\n",
    "import itertools, random, numpy as np, pandas as pd\n",
    "from pathlib import Path\n",
    "from pulp import (LpProblem, LpMinimize, LpBinary, LpVariable,\n",
    "                  lpSum, PULP_CBC_CMD)\n",
    "\n",
    "# ------------------------------------------------------------------\n",
    "# 1 ▸ generate a toy instance (10 PICs, 4 houses, 3 sets, 5 groups) --\n",
    "# ------------------------------------------------------------------\n",
    "random.seed(42);  np.random.seed(42)\n",
    "\n",
    "PIC   = [f'P{i+1}' for i in range(10)]\n",
    "HOUSE = [f'H{h+1}' for h in range(4)]\n",
    "SETS  = [f'SET{s+1}' for s in range(3)]\n",
    "L     = ['MO', 'NO_MO', 'MIN', 'MED', 'MAX']\n",
    "\n",
    "# (a) PIC profile  --------------------------------------------------\n",
    "violence = np.random.choice(['MIN','MED','MAX'], size=len(PIC))\n",
    "is_mo    = np.random.choice([0,1], size=len(PIC))\n",
    "df_L = pd.DataFrame.from_records([\n",
    "    dict(PIC_ID=pid,\n",
    "         **{g:int(g=='MO')*mo + int(g=='NO_MO')*(1-mo) +\n",
    "              int(g==v) for g in L})\n",
    "    for pid, v, mo in zip(PIC, violence, is_mo)\n",
    "])\n",
    "\n",
    "# (b) initial assignment  ------------------------------------------\n",
    "df_init = pd.DataFrame({\n",
    "    'PIC_ID'        : PIC,\n",
    "    'HOUSE_ID_INIT' : np.random.choice(HOUSE, size=len(PIC))\n",
    "})\n",
    "\n",
    "# (c) set profile  --------------------------------------------------\n",
    "membership = np.zeros((len(PIC), len(SETS)), dtype=int)\n",
    "for i in range(len(PIC)):\n",
    "    if random.random() < .8:\n",
    "        membership[i, random.randrange(len(SETS))] = 1\n",
    "df_S = pd.DataFrame(membership, columns=SETS).assign(PIC_ID=PIC)\n",
    "\n",
    "# (d) random separation-order & SRG conflicts -----------------------\n",
    "df_so = pd.DataFrame(random.sample(\n",
    "            list(itertools.combinations(PIC, 2)), 3),\n",
    "            columns=['PIC_ID1','PIC_ID2'])\n",
    "\n",
    "df_sc = pd.DataFrame(random.sample(\n",
    "            list(itertools.combinations(SETS, 2)), 2),\n",
    "            columns=['SET1','SET2'])\n",
    "\n",
    "# (e) physical housing & type menus ---------------------------------\n",
    "df_ph = pd.DataFrame({\n",
    "    'HOUSE_ID'   : HOUSE,\n",
    "    'TYPE_BUILD' : np.random.choice(['DORM','CELL'], size=len(HOUSE)),\n",
    "    'CAP'        : np.random.randint(3,5, size=len(HOUSE))\n",
    "})\n",
    "\n",
    "TYPES = ['MO_MIN','MO_MED','NO_MO_MIN','NO_MO_MED','NO_MO_MAX']\n",
    "df_tb = pd.DataFrame([(h,t) for h in HOUSE for t in TYPES],\n",
    "                     columns=['HOUSE_ID','TYPE_ID'])\n",
    "\n",
    "w = {                     # group-permission matrix w_{tℓ}\n",
    "    'MO_MIN'   : dict(MO=1, NO_MO=0, MIN=1, MED=0, MAX=0),\n",
    "    'MO_MED'   : dict(MO=1, NO_MO=0, MIN=0, MED=1, MAX=0),\n",
    "    'NO_MO_MIN': dict(MO=0, NO_MO=1, MIN=1, MED=0, MAX=0),\n",
    "    'NO_MO_MED': dict(MO=0, NO_MO=1, MIN=0, MED=1, MAX=0),\n",
    "    'NO_MO_MAX': dict(MO=0, NO_MO=1, MIN=0, MED=0, MAX=1),\n",
    "}\n",
    "df_tbl = (pd.DataFrame(w).T\n",
    "          .reset_index(names='TYPE_ID')\n",
    "          .reindex(columns=['TYPE_ID',*L]))\n",
    "\n",
    "# ------------------------------------------------------------------\n",
    "# 2 ▸ build the MILP  (exactly the formulation in the note)   ------\n",
    "# ------------------------------------------------------------------\n",
    "cap      = df_ph.set_index('HOUSE_ID')['CAP'].to_dict()\n",
    "init_h   = df_init.set_index('PIC_ID')['HOUSE_ID_INIT'].to_dict()\n",
    "x_is     = {(r.PIC_ID,s):r[s] for _,r in df_S.iterrows() for s in SETS}\n",
    "y_il     = {(r.PIC_ID,l):r[l] for _,r in df_L.iterrows() for l in L}\n",
    "w_tl     = {(r.TYPE_ID,l):r[l] for _,r in df_tbl.iterrows() for l in L}\n",
    "T_of_h   = {h:df_tb[df_tb.HOUSE_ID==h]['TYPE_ID'].tolist() for h in HOUSE}\n",
    "\n",
    "prob = LpProblem(\"Housing_Min_Move\", LpMinimize)\n",
    "\n",
    "a = LpVariable.dicts('a', (PIC, HOUSE), 0, 1, LpBinary)   # assignment\n",
    "b = LpVariable.dicts('b', (HOUSE, TYPES), 0, 1, LpBinary) # house type\n",
    "u = LpVariable.dicts('u', HOUSE, 0, 1, LpBinary)          # house used\n",
    "m = LpVariable.dicts('m', PIC, 0, 1, LpBinary)            # moved?\n",
    "\n",
    "# (i) each PIC in exactly one house\n",
    "for i in PIC:\n",
    "    prob += lpSum(a[i][h] for h in HOUSE) == 1\n",
    "\n",
    "# (ii) one type per house\n",
    "for h in HOUSE:\n",
    "    prob += lpSum(b[h][t] for t in T_of_h[h]) == 1\n",
    "\n",
    "# (iii) link u_h\n",
    "for h in HOUSE:\n",
    "    for i in PIC:\n",
    "        prob += a[i][h] <= u[h]\n",
    "\n",
    "# (iv) capacity\n",
    "for h in HOUSE:\n",
    "    prob += lpSum(a[i][h] for i in PIC) <= cap[h]\n",
    "\n",
    "# (v) movement flag  m_i = 1 – a_{i,init(i)}\n",
    "for i in PIC:\n",
    "    prob += m[i] + a[i][init_h[i]] == 1\n",
    "\n",
    "# (vi) separation-order\n",
    "for _,row in df_so.iterrows():\n",
    "    p1,p2 = row.PIC_ID1, row.PIC_ID2\n",
    "    for h in HOUSE:\n",
    "        prob += a[p1][h] + a[p2][h] <= 1\n",
    "\n",
    "# (vii) SRG conflicts\n",
    "for _,row in df_sc.iterrows():\n",
    "    s1,s2 = row.SET1, row.SET2\n",
    "    for h in HOUSE:\n",
    "        prob += (\n",
    "            lpSum(a[i][h]*x_is[i,s1] for i in PIC) +\n",
    "            lpSum(a[i][h]*x_is[i,s2] for i in PIC) <= 1)\n",
    "\n",
    "# (viii) type-based limits\n",
    "for h in HOUSE:\n",
    "    for l in L:\n",
    "        lhs = lpSum(a[i][h]*y_il[i,l] for i in PIC)\n",
    "        rhs = cap[h]*lpSum(b[h][t]*w_tl[t,l] for t in T_of_h[h])\n",
    "        prob += lhs <= rhs\n",
    "\n",
    "# objective = moves  + 0.1 × houses-used\n",
    "prob += lpSum(m[i] for i in PIC) + 0.1*lpSum(u[h] for h in HOUSE)\n",
    "\n",
    "# ------------------------------------------------------------------\n",
    "# 3 ▸ solve & export report   --------------------------------------\n",
    "# ------------------------------------------------------------------\n",
    "prob.solve(PULP_CBC_CMD(msg=False))\n",
    "\n",
    "moves = pd.DataFrame([\n",
    "    dict(PIC_ID=i,\n",
    "         HOUSE_ID_INIT = init_h[i],\n",
    "         HOUSE_ID_NEW  = next(h for h in HOUSE if a[i][h].value()>0.5))\n",
    "    for i in PIC\n",
    "])\n",
    "moves['MOVED_FLAG'] = (moves.HOUSE_ID_INIT != moves.HOUSE_ID_NEW).astype(int)\n",
    "\n",
    "summary = pd.DataFrame([{\n",
    "    'TOTAL_MOVES' : int(moves.MOVED_FLAG.sum()),\n",
    "    'HOUSES_USED' : int(sum(u[h].value() for h in HOUSE))\n",
    "}])\n",
    "\n",
    "\n",
    "\n"
   ]
  },
  {
   "cell_type": "code",
   "execution_count": null,
   "id": "29b28fbd",
   "metadata": {},
   "outputs": [
    {
     "name": "stdout",
     "output_type": "stream",
     "text": [
      "Defaulting to user installation because normal site-packages is not writeable\n",
      "Requirement already satisfied: pandas in c:\\programdata\\anaconda3\\lib\\site-packages (1.4.2)\n",
      "Could not fetch URL https://pypi.org/simple/pulp/: There was a problem confirming the ssl certificate: HTTPSConnectionPool(host='pypi.org', port=443): Max retries exceeded with url: /simple/pulp/ (Caused by SSLError(SSLCertVerificationError(1, '[SSL: CERTIFICATE_VERIFY_FAILED] certificate verify failed: self signed certificate in certificate chain (_ssl.c:1129)'))) - skipping\n",
      "Could not fetch URL https://pypi.org/simple/pip/: There was a problem confirming the ssl certificate: HTTPSConnectionPool(host='pypi.org', port=443): Max retries exceeded with url: /simple/pip/ (Caused by SSLError(SSLCertVerificationError(1, '[SSL: CERTIFICATE_VERIFY_FAILED] certificate verify failed: self signed certificate in certificate chain (_ssl.c:1129)'))) - skipping\n",
      "Note: you may need to restart the kernel to use updated packages.\n"
     ]
    },
    {
     "name": "stderr",
     "output_type": "stream",
     "text": [
      "WARNING: Retrying (Retry(total=4, connect=None, read=None, redirect=None, status=None)) after connection broken by 'SSLError(SSLCertVerificationError(1, '[SSL: CERTIFICATE_VERIFY_FAILED] certificate verify failed: self signed certificate in certificate chain (_ssl.c:1129)'))': /simple/pulp/\n",
      "WARNING: Retrying (Retry(total=3, connect=None, read=None, redirect=None, status=None)) after connection broken by 'SSLError(SSLCertVerificationError(1, '[SSL: CERTIFICATE_VERIFY_FAILED] certificate verify failed: self signed certificate in certificate chain (_ssl.c:1129)'))': /simple/pulp/\n",
      "WARNING: Retrying (Retry(total=2, connect=None, read=None, redirect=None, status=None)) after connection broken by 'SSLError(SSLCertVerificationError(1, '[SSL: CERTIFICATE_VERIFY_FAILED] certificate verify failed: self signed certificate in certificate chain (_ssl.c:1129)'))': /simple/pulp/\n",
      "WARNING: Retrying (Retry(total=1, connect=None, read=None, redirect=None, status=None)) after connection broken by 'SSLError(SSLCertVerificationError(1, '[SSL: CERTIFICATE_VERIFY_FAILED] certificate verify failed: self signed certificate in certificate chain (_ssl.c:1129)'))': /simple/pulp/\n",
      "WARNING: Retrying (Retry(total=0, connect=None, read=None, redirect=None, status=None)) after connection broken by 'SSLError(SSLCertVerificationError(1, '[SSL: CERTIFICATE_VERIFY_FAILED] certificate verify failed: self signed certificate in certificate chain (_ssl.c:1129)'))': /simple/pulp/\n",
      "ERROR: Could not find a version that satisfies the requirement pulp (from versions: none)\n",
      "ERROR: No matching distribution found for pulp\n"
     ]
    }
   ],
   "source": [
    "pip install  pulp "
   ]
  },
  {
   "cell_type": "code",
   "execution_count": null,
   "id": "b09f8273",
   "metadata": {},
   "outputs": [],
   "source": []
  },
  {
   "cell_type": "code",
   "execution_count": null,
   "id": "d5947b5c",
   "metadata": {},
   "outputs": [],
   "source": [
    "path_result = base_dir / 'output_moves.xlsx'\n",
    "with pd.ExcelWriter(path_result, engine='xlsxwriter') as writer:\n",
    "    moves.to_excel(writer,   sheet_name='Moves',    index=False)\n",
    "    summary.to_excel(writer, sheet_name='Summary',  index=False)\n",
    "\n",
    "print(\"✓ optimisation complete →\", out.resolve())"
   ]
  }
 ],
 "metadata": {
  "kernelspec": {
   "display_name": "base",
   "language": "python",
   "name": "python3"
  },
  "language_info": {
   "codemirror_mode": {
    "name": "ipython",
    "version": 3
   },
   "file_extension": ".py",
   "mimetype": "text/x-python",
   "name": "python",
   "nbconvert_exporter": "python",
   "pygments_lexer": "ipython3",
   "version": "3.9.12"
  }
 },
 "nbformat": 4,
 "nbformat_minor": 5
}
